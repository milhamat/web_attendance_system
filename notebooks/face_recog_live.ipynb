{
 "cells": [
  {
   "cell_type": "code",
   "execution_count": 1,
   "metadata": {},
   "outputs": [],
   "source": [
    "from facenet_pytorch import MTCNN, InceptionResnetV1\n",
    "from PIL import Image\n",
    "import torch\n",
    "\n",
    "# Initialize MTCNN for face detection\n",
    "mtcnn = MTCNN()\n",
    "\n",
    "# Load pre-trained Inception ResNet model\n",
    "resnet = InceptionResnetV1(pretrained='casia-webface').eval()\n",
    "\n",
    "# Load two face images to be verified\n",
    "img1 = Image.open('1.jpg')\n",
    "img2 = Image.open('2.jpg')\n",
    "\n",
    "# Detect and align faces\n",
    "aligned1 = mtcnn(img1)\n",
    "aligned2 = mtcnn(img2)\n",
    "\n",
    "# Ensure both images have detected faces\n",
    "if aligned1 is not None and aligned2 is not None:\n",
    "    aligned1 = aligned1.unsqueeze(0)  # Add batch dimension (1, C, H, W)\n",
    "    aligned2 = aligned2.unsqueeze(0)  # Add batch dimension (1, C, H, W)\n",
    "\n",
    "    # Extract embeddings\n",
    "    embeddings1 = resnet(aligned1).detach()\n",
    "    embeddings2 = resnet(aligned2).detach()\n",
    "    \n",
    "    # Calculate the Euclidean distance between embeddings\n",
    "    distance = torch.norm(embeddings1 - embeddings2).item()\n",
    "\n",
    "    # Set a threshold for verification\n",
    "    threshold = 1.0  # Adjust as needed\n",
    "    if distance < threshold:\n",
    "        print(\"Same person\")\n",
    "    else:\n",
    "        print(\"Different persons\")\n",
    "else:\n",
    "    print(\"Face not detected in one or both images.\")\n"
   ]
  }
 ],
 "metadata": {
  "kernelspec": {
   "display_name": "ev2py38",
   "language": "python",
   "name": "python3"
  },
  "language_info": {
   "codemirror_mode": {
    "name": "ipython",
    "version": 3
   },
   "file_extension": ".py",
   "mimetype": "text/x-python",
   "name": "python",
   "nbconvert_exporter": "python",
   "pygments_lexer": "ipython3",
   "version": "3.8.16"
  }
 },
 "nbformat": 4,
 "nbformat_minor": 2
}
