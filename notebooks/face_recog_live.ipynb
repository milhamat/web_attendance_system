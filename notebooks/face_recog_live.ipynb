{
 "cells": [
  {
   "cell_type": "code",
   "execution_count": null,
   "metadata": {},
   "outputs": [],
   "source": [
    "# This script will detect faces via your webcam.\n",
    "# Tested with OpenCV3\n",
    "\n",
    "import cv2\n",
    "\n",
    "cap = cv2.VideoCapture(0)\n",
    "\n",
    "# Create the haar cascade\n",
    "faceCascade = cv2.CascadeClassifier(\"haarcascade_frontalface_default.xml\")\n",
    "\n",
    "while(True):\n",
    "\t# Capture frame-by-frame\n",
    "\tret, frame = cap.read()\n",
    "\n",
    "\t# Our operations on the frame come here\n",
    "\tgray = cv2.cvtColor(frame, cv2.COLOR_BGR2GRAY)\n",
    "\n",
    "\t# Detect faces in the image\n",
    "\tfaces = faceCascade.detectMultiScale(\n",
    "\t\tgray,\n",
    "\t\tscaleFactor=1.1, # change to 1.2 if there any error detecting face due image quality \n",
    "\t\tminNeighbors=5,\n",
    "\t\tminSize=(30, 30)\n",
    "\t\t#flags = cv2.CV_HAAR_SCALE_IMAGE\n",
    "\t)\n",
    "\n",
    "\tprint(\"Found {0} faces!\".format(len(faces)))\n",
    "\tactive = False\n",
    "\t# Draw a rectangle around the faces\n",
    "\tfor (x, y, w, h) in faces:\n",
    "\t\tcv2.rectangle(frame, (x, y), (x+w, y+h), (0, 255, 0), 2)\n",
    "\t\tactive = True\n",
    "\n",
    "\tif active:\n",
    "\t\tprint(f\"width: {w}, height: {h}\")\n",
    " \n",
    "\t# Display the resulting frame\n",
    "\tcv2.imshow('frame', frame)\n",
    "\tif cv2.waitKey(1) & 0xFF == ord('q'):\n",
    "\t\tbreak\n",
    "\n",
    "# When everything done, release the capture\n",
    "cap.release()\n",
    "cv2.destroyAllWindows()\n"
   ]
  }
 ],
 "metadata": {
  "language_info": {
   "name": "python"
  }
 },
 "nbformat": 4,
 "nbformat_minor": 2
}
